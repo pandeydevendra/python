{
 "cells": [
  {
   "cell_type": "code",
   "execution_count": null,
   "metadata": {},
   "outputs": [],
   "source": [
    "import matplotlib.pyplot as plt\n",
    "import pandas as pd \n",
    "from sklearn import linear_model\n",
    "\n",
    "def get_y(x):\n",
    "    #y=4x+1\n",
    "    return (4*x+1)\n",
    "\n",
    "\n",
    "x = [10,11,12,13,14,15,16,17,18,19,20]\n",
    "# for i in range(-2,3):\n",
    "#     x.append(i)\n",
    "    \n",
    "y = [20,25,30,35,40,50,60,70,80,90,100]\n",
    "# for px in x:\n",
    "#     py = get_y(px)\n",
    "#     y.append(py)\n",
    "        \n",
    "df_x = pd.DataFrame(x)#converting list(x) into dataframe(df_x)\n",
    "df_y = pd.DataFrame(y) #converting list(y) into dataframe(df_y)\n",
    "\n",
    "reg = linear_model.LinearRegression()\n",
    "reg.fit(df_x, y)\n",
    "print(reg.coef_, reg.intercept_)\n",
    "\n",
    "print(reg.predict([[31]]))\n",
    "\n",
    "plt.plot(x, y, color='green', linestyle='dashed', linewidth = 2, \n",
    "         marker='o', markerfacecolor='blue', markersize=10, label=\"y=8.18x-68.18\")     \n",
    "\n",
    "\n",
    "plt.xlabel('x - axis') \n",
    "\n",
    "plt.ylabel('y - axis') \n",
    " \n",
    "plt.legend()\n",
    "plt.show()\n"
   ]
  }
 ],
 "metadata": {
  "kernelspec": {
   "display_name": "Python 3",
   "language": "python",
   "name": "python3"
  },
  "language_info": {
   "codemirror_mode": {
    "name": "ipython",
    "version": 3
   },
   "file_extension": ".py",
   "mimetype": "text/x-python",
   "name": "python",
   "nbconvert_exporter": "python",
   "pygments_lexer": "ipython3",
   "version": "3.6.8"
  }
 },
 "nbformat": 4,
 "nbformat_minor": 4
}
