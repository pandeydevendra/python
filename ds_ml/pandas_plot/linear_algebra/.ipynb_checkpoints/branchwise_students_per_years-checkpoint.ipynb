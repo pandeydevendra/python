{
 "cells": [
  {
   "cell_type": "code",
   "execution_count": null,
   "id": "iraqi-spiritual",
   "metadata": {},
   "outputs": [],
   "source": [
    "import numpy as np\n",
    "import matplotlib.pyplot as plt\n",
    "\n",
    "# set width of bar\n",
    "barWidth = 0.25\n",
    "fig = plt.subplots(figsize=(12, 8))\n",
    "\n",
    "# set height of bar\n",
    "IT = [12, 30, 1, 8, 22]\n",
    "ECE = [28, 6, 16, 5, 10]\n",
    "CSE = [29, 3, 24, 25, 17]\n",
    "\n",
    "# Set position of bar on X axis\n",
    "br1 = np.arange(len(IT))\n",
    "# print(br1)\n",
    "br2 = [x + barWidth for x in br1]\n",
    "br3 = [x + barWidth for x in br2]\n",
    "\n",
    "# Make the plot\n",
    "plt.bar(br1, IT, color='r', width=barWidth,\n",
    "        edgecolor='grey', label='IT')\n",
    "plt.bar(br2, ECE, color='g', width=barWidth,\n",
    "        edgecolor='grey', label='ECE')\n",
    "plt.bar(br3, CSE, color='b', width=barWidth,\n",
    "        edgecolor='grey', label='CSE')\n",
    "\n",
    "# Adding Xticks\n",
    "plt.xlabel('Branch>>>>', fontweight='bold', fontsize=15)\n",
    "plt.ylabel('Students passed>>>>>', fontweight='bold', fontsize=15)\n",
    "plt.xticks([r + barWidth for r in range(len(IT))],\n",
    "           ['2015', '2016', '2017', '2018', '2019'])\n",
    "\n",
    "plt.legend()\n",
    "plt.show()\n"
   ]
  }
 ],
 "metadata": {
  "kernelspec": {
   "display_name": "Python 3",
   "language": "python",
   "name": "python3"
  },
  "language_info": {
   "codemirror_mode": {
    "name": "ipython",
    "version": 3
   },
   "file_extension": ".py",
   "mimetype": "text/x-python",
   "name": "python",
   "nbconvert_exporter": "python",
   "pygments_lexer": "ipython3",
   "version": "3.6.8"
  }
 },
 "nbformat": 4,
 "nbformat_minor": 5
}
