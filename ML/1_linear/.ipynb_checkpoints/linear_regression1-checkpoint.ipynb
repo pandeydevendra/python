{
 "cells": [
  {
   "cell_type": "code",
   "execution_count": null,
   "metadata": {},
   "outputs": [],
   "source": [
    "import pandas as pd \n",
    "import numpy as np\n",
    "from sklearn import linear_model\n",
    "import matplotlib.pyplot as plt\n",
    "\n",
    "# Import the excel file and call it xls_file \n",
    "excel_file = pd.ExcelFile('data.xlsx') \n",
    "\n",
    "# View the excel_file's sheet names \n",
    "print(excel_file.sheet_names) \n",
    "\n",
    "# Load the excel_file's Sheet1 as a dataframe \n",
    "df = excel_file.parse('y_sq_x') \n",
    "print(df)\n",
    "x_list=df.x\n",
    "y_list=df.y\n",
    "plt.xlabel('x')\n",
    "plt.ylabel('y')\n",
    "plt.scatter(x_list,y_list,color='red',marker='*')\n",
    "df_x = pd.DataFrame(x_list)#converting list(x) into dataframe(df_x)\n",
    "reg = linear_model.LinearRegression()\n",
    "reg.fit(df_x, y_list)\n",
    "print(reg.coef_, reg.intercept_)\n",
    "print(reg.predict([[20]]))\n",
    "\n"
   ]
  },
  {
   "cell_type": "code",
   "execution_count": null,
   "metadata": {},
   "outputs": [],
   "source": []
  },
  {
   "cell_type": "code",
   "execution_count": null,
   "metadata": {},
   "outputs": [],
   "source": []
  }
 ],
 "metadata": {
  "kernelspec": {
   "display_name": "Python 3",
   "language": "python",
   "name": "python3"
  },
  "language_info": {
   "codemirror_mode": {
    "name": "ipython",
    "version": 3
   },
   "file_extension": ".py",
   "mimetype": "text/x-python",
   "name": "python",
   "nbconvert_exporter": "python",
   "pygments_lexer": "ipython3",
   "version": "3.6.8"
  }
 },
 "nbformat": 4,
 "nbformat_minor": 4
}
